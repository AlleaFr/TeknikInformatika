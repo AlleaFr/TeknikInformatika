{
  "nbformat": 4,
  "nbformat_minor": 0,
  "metadata": {
    "colab": {
      "provenance": [],
      "toc_visible": true,
      "mount_file_id": "1UUN8na77s_EbOsJRT_8lS0_72DU3huat",
      "authorship_tag": "ABX9TyMBogr4tCRiPfQNitsAlJFe",
      "include_colab_link": true
    },
    "kernelspec": {
      "name": "python3",
      "display_name": "Python 3"
    },
    "language_info": {
      "name": "python"
    }
  },
  "cells": [
    {
      "cell_type": "markdown",
      "metadata": {
        "id": "view-in-github",
        "colab_type": "text"
      },
      "source": [
        "<a href=\"https://colab.research.google.com/github/AlleaFr/tugasmobileprogramming/blob/main/Untitled0.ipynb\" target=\"_parent\"><img src=\"https://colab.research.google.com/assets/colab-badge.svg\" alt=\"Open In Colab\"/></a>"
      ]
    },
    {
      "cell_type": "code",
      "source": [
        "from google.colab import drive\n",
        "drive.mount('/content/drive')"
      ],
      "metadata": {
        "colab": {
          "base_uri": "https://localhost:8080/"
        },
        "id": "tMFC_SIDt8fC",
        "outputId": "0f47ba48-69e1-4fbc-831d-7cc70defea21"
      },
      "execution_count": 14,
      "outputs": [
        {
          "output_type": "stream",
          "name": "stdout",
          "text": [
            "Drive already mounted at /content/drive; to attempt to forcibly remount, call drive.mount(\"/content/drive\", force_remount=True).\n"
          ]
        }
      ]
    },
    {
      "cell_type": "markdown",
      "source": [],
      "metadata": {
        "id": "u6_6r959w3SN"
      }
    },
    {
      "cell_type": "code",
      "source": [
        "import pandas as pd\n",
        "\n",
        "data = {\n",
        "    'Outlook': ['sunny', 'sunny', 'cloudy', 'rainy', 'rainy', 'rainy', 'cloudy',\n",
        "                'sunny', 'sunny', 'rainy', 'sunny', 'cloudy', 'cloudy', 'rainy'],\n",
        "    'Temperature': ['hot', 'hot', 'hot', 'mild', 'cool', 'cool', 'cool',\n",
        "                    'mild', 'cool', 'mild', 'mild', 'mild', 'hot', 'mild'],\n",
        "    'Humidity': ['high', 'high', 'high', 'high', 'normal', 'normal', 'normal',\n",
        "                 'high', 'normal', 'normal', 'normal', 'high', 'normal', 'high'],\n",
        "    'Windy': [False, True, False, False, False, True, True, False, False, False,\n",
        "              True, True, False, True],\n",
        "    'Play': ['no', 'no', 'yes', 'yes', 'yes', 'yes', 'yes', 'no', 'yes', 'yes',\n",
        "             'yes', 'yes', 'yes', 'no']\n",
        "}\n",
        "\n",
        "df = pd.DataFrame(data)\n",
        "print(\"Data Golf:\")\n",
        "print(df)\n"
      ],
      "metadata": {
        "id": "vUvy3MRxAX4O",
        "colab": {
          "base_uri": "https://localhost:8080/"
        },
        "outputId": "b0c6d8cb-c4e8-482e-b3c7-c3b324e1dbc0"
      },
      "execution_count": 2,
      "outputs": [
        {
          "output_type": "stream",
          "name": "stdout",
          "text": [
            "Data Golf:\n",
            "   Outlook Temperature Humidity  Windy Play\n",
            "0    sunny         hot     high  False   no\n",
            "1    sunny         hot     high   True   no\n",
            "2   cloudy         hot     high  False  yes\n",
            "3    rainy        mild     high  False  yes\n",
            "4    rainy        cool   normal  False  yes\n",
            "5    rainy        cool   normal   True  yes\n",
            "6   cloudy        cool   normal   True  yes\n",
            "7    sunny        mild     high  False   no\n",
            "8    sunny        cool   normal  False  yes\n",
            "9    rainy        mild   normal  False  yes\n",
            "10   sunny        mild   normal   True  yes\n",
            "11  cloudy        mild     high   True  yes\n",
            "12  cloudy         hot   normal  False  yes\n",
            "13   rainy        mild     high   True   no\n"
          ]
        }
      ]
    },
    {
      "cell_type": "code",
      "source": [
        "from sklearn.preprocessing import LabelEncoder\n",
        "\n",
        "le = LabelEncoder()\n",
        "\n",
        "df['Outlook'] = le.fit_transform(df['Outlook'])  # sunny=2, cloudy=0, rainy=1\n",
        "df['Temperature'] = le.fit_transform(df['Temperature'])  # hot=1, mild=2, cool=0\n",
        "df['Humidity'] = le.fit_transform(df['Humidity'])  # high=0, normal=1\n",
        "df['Windy'] = le.fit_transform(df['Windy'])  # False=0, True=1\n",
        "df['Play'] = le.fit_transform(df['Play'])  # no=0, yes=1\n",
        "\n",
        "print(\"Data Setelah Encoding:\")\n",
        "print(df)"
      ],
      "metadata": {
        "colab": {
          "base_uri": "https://localhost:8080/"
        },
        "id": "EKsHgzYWCs4P",
        "outputId": "0780e960-b902-4e5a-de8f-d5a6add43cfa"
      },
      "execution_count": 3,
      "outputs": [
        {
          "output_type": "stream",
          "name": "stdout",
          "text": [
            "Data Setelah Encoding:\n",
            "    Outlook  Temperature  Humidity  Windy  Play\n",
            "0         2            1         0      0     0\n",
            "1         2            1         0      1     0\n",
            "2         0            1         0      0     1\n",
            "3         1            2         0      0     1\n",
            "4         1            0         1      0     1\n",
            "5         1            0         1      1     1\n",
            "6         0            0         1      1     1\n",
            "7         2            2         0      0     0\n",
            "8         2            0         1      0     1\n",
            "9         1            2         1      0     1\n",
            "10        2            2         1      1     1\n",
            "11        0            2         0      1     1\n",
            "12        0            1         1      0     1\n",
            "13        1            2         0      1     0\n"
          ]
        }
      ]
    },
    {
      "cell_type": "code",
      "source": [
        "X = df[['Outlook', 'Temperature', 'Humidity', 'Windy']]  # Fitur\n",
        "y = df['Play']  # Target\n",
        "\n",
        "print(\"Fitur (X):\")\n",
        "print(X)\n",
        "print(\"\\nTarget (y):\")\n",
        "print(y)"
      ],
      "metadata": {
        "colab": {
          "base_uri": "https://localhost:8080/"
        },
        "id": "gQsx_nivDgFp",
        "outputId": "935ebbe3-c1a0-4386-ef90-8129f2da9a2b"
      },
      "execution_count": 4,
      "outputs": [
        {
          "output_type": "stream",
          "name": "stdout",
          "text": [
            "Fitur (X):\n",
            "    Outlook  Temperature  Humidity  Windy\n",
            "0         2            1         0      0\n",
            "1         2            1         0      1\n",
            "2         0            1         0      0\n",
            "3         1            2         0      0\n",
            "4         1            0         1      0\n",
            "5         1            0         1      1\n",
            "6         0            0         1      1\n",
            "7         2            2         0      0\n",
            "8         2            0         1      0\n",
            "9         1            2         1      0\n",
            "10        2            2         1      1\n",
            "11        0            2         0      1\n",
            "12        0            1         1      0\n",
            "13        1            2         0      1\n",
            "\n",
            "Target (y):\n",
            "0     0\n",
            "1     0\n",
            "2     1\n",
            "3     1\n",
            "4     1\n",
            "5     1\n",
            "6     1\n",
            "7     0\n",
            "8     1\n",
            "9     1\n",
            "10    1\n",
            "11    1\n",
            "12    1\n",
            "13    0\n",
            "Name: Play, dtype: int64\n"
          ]
        }
      ]
    },
    {
      "cell_type": "code",
      "source": [
        "from sklearn.model_selection import train_test_split\n",
        "\n",
        "# Bagi data menjadi 80% latih dan 20% uji\n",
        "X_train, X_test, y_train, y_test = train_test_split(X, y, test_size=0.2, random_state=42)\n",
        "\n",
        "print(\"Data Latih:\")\n",
        "print(X_train)\n",
        "print(\"\\nData Uji:\")\n",
        "print(X_test)"
      ],
      "metadata": {
        "colab": {
          "base_uri": "https://localhost:8080/"
        },
        "id": "g6Usst-4DvBl",
        "outputId": "c71ffdc3-be19-4b63-e5ba-e8c8fd85e6d4"
      },
      "execution_count": 5,
      "outputs": [
        {
          "output_type": "stream",
          "name": "stdout",
          "text": [
            "Data Latih:\n",
            "    Outlook  Temperature  Humidity  Windy\n",
            "12        0            1         1      0\n",
            "5         1            0         1      1\n",
            "8         2            0         1      0\n",
            "2         0            1         0      0\n",
            "1         2            1         0      1\n",
            "13        1            2         0      1\n",
            "4         1            0         1      0\n",
            "7         2            2         0      0\n",
            "10        2            2         1      1\n",
            "3         1            2         0      0\n",
            "6         0            0         1      1\n",
            "\n",
            "Data Uji:\n",
            "    Outlook  Temperature  Humidity  Windy\n",
            "9         1            2         1      0\n",
            "11        0            2         0      1\n",
            "0         2            1         0      0\n"
          ]
        }
      ]
    },
    {
      "cell_type": "code",
      "source": [
        " from sklearn.naive_bayes import GaussianNB\n",
        "\n",
        "model = GaussianNB()\n",
        "\n",
        "model.fit(X_train, y_train)\n",
        "\n",
        "print(\"Model Naive Bayes telah dilatih.\")"
      ],
      "metadata": {
        "colab": {
          "base_uri": "https://localhost:8080/"
        },
        "id": "X9yytS-JD8KU",
        "outputId": "b563c00b-402f-46e4-eaaf-71b5ae5880b3"
      },
      "execution_count": 6,
      "outputs": [
        {
          "output_type": "stream",
          "name": "stdout",
          "text": [
            "Model Naive Bayes telah dilatih.\n"
          ]
        }
      ]
    },
    {
      "cell_type": "code",
      "source": [
        "y_pred = model.predict(X_test)\n",
        "\n",
        "print(\"Hasil Prediksi:\")\n",
        "print(y_pred)\n",
        "print(\"\\nJawaban Sebenarnya:\")\n",
        "print(y_test.values)"
      ],
      "metadata": {
        "id": "Xui_yVcFHAOB",
        "colab": {
          "base_uri": "https://localhost:8080/"
        },
        "outputId": "4b423ceb-b850-4ddf-e01c-2e264bd1c441"
      },
      "execution_count": 8,
      "outputs": [
        {
          "output_type": "stream",
          "name": "stdout",
          "text": [
            "Hasil Prediksi:\n",
            "[1 0 0]\n",
            "\n",
            "Jawaban Sebenarnya:\n",
            "[1 1 0]\n"
          ]
        }
      ]
    },
    {
      "cell_type": "code",
      "source": [
        "from sklearn.metrics import accuracy_score, classification_report\n",
        "\n",
        "accuracy = accuracy_score(y_test, y_pred)\n",
        "print(f\"Akurasi Model: {accuracy:.2f}\")\n",
        "\n",
        "print(\"\\nLaporan Klasifikasi:\")\n",
        "print(classification_report(y_test, y_pred))"
      ],
      "metadata": {
        "colab": {
          "base_uri": "https://localhost:8080/"
        },
        "id": "-NgQMZOLHpSW",
        "outputId": "cbd6e4ed-603f-4bfd-b156-14f072f69425"
      },
      "execution_count": 9,
      "outputs": [
        {
          "output_type": "stream",
          "name": "stdout",
          "text": [
            "Akurasi Model: 0.67\n",
            "\n",
            "Laporan Klasifikasi:\n",
            "              precision    recall  f1-score   support\n",
            "\n",
            "           0       0.50      1.00      0.67         1\n",
            "           1       1.00      0.50      0.67         2\n",
            "\n",
            "    accuracy                           0.67         3\n",
            "   macro avg       0.75      0.75      0.67         3\n",
            "weighted avg       0.83      0.67      0.67         3\n",
            "\n"
          ]
        }
      ]
    },
    {
      "cell_type": "code",
      "source": [
        "new_data = [[0, 2, 1, 1]]\n",
        "new_prediction = model.predict(new_data)\n",
        "\n",
        "print(\"Prediksi untuk Data Baru:\")\n",
        "print(\"Play =\", \"yes\" if new_prediction[0] == 1 else \"no\")"
      ],
      "metadata": {
        "colab": {
          "base_uri": "https://localhost:8080/"
        },
        "id": "oDXZZ8PeHtLz",
        "outputId": "3a5e9b3c-0487-4e1c-bf44-e9394b4b0843"
      },
      "execution_count": 10,
      "outputs": [
        {
          "output_type": "stream",
          "name": "stdout",
          "text": [
            "Prediksi untuk Data Baru:\n",
            "Play = yes\n"
          ]
        },
        {
          "output_type": "stream",
          "name": "stderr",
          "text": [
            "/usr/local/lib/python3.10/dist-packages/sklearn/base.py:493: UserWarning: X does not have valid feature names, but GaussianNB was fitted with feature names\n",
            "  warnings.warn(\n"
          ]
        }
      ]
    }
  ]
}